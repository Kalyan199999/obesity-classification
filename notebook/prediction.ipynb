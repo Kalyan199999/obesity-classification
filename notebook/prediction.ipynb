{
 "cells": [
  {
   "cell_type": "code",
   "execution_count": 1,
   "id": "55136140-e6da-49be-bd6b-7a09e660ee8f",
   "metadata": {},
   "outputs": [],
   "source": [
    "import joblib\n",
    "import pandas as pd"
   ]
  },
  {
   "cell_type": "code",
   "execution_count": null,
   "id": "bab96f45-5c2c-4f25-9e89-ff0637c5bab7",
   "metadata": {},
   "outputs": [],
   "source": []
  },
  {
   "cell_type": "code",
   "execution_count": 2,
   "id": "8245536b-14c0-4e68-abd2-4c0bc3e211ee",
   "metadata": {},
   "outputs": [],
   "source": [
    "model = joblib.load( '../saved_models/svc.pkl' )\n",
    "preprocessor = joblib.load( '../saved_models/preprocessor.pkl' )"
   ]
  },
  {
   "cell_type": "code",
   "execution_count": 3,
   "id": "b7475c16-7f06-47e7-9080-8af79619fc22",
   "metadata": {},
   "outputs": [
    {
     "data": {
      "text/html": [
       "<div>\n",
       "<style scoped>\n",
       "    .dataframe tbody tr th:only-of-type {\n",
       "        vertical-align: middle;\n",
       "    }\n",
       "\n",
       "    .dataframe tbody tr th {\n",
       "        vertical-align: top;\n",
       "    }\n",
       "\n",
       "    .dataframe thead th {\n",
       "        text-align: right;\n",
       "    }\n",
       "</style>\n",
       "<table border=\"1\" class=\"dataframe\">\n",
       "  <thead>\n",
       "    <tr style=\"text-align: right;\">\n",
       "      <th></th>\n",
       "      <th>gender</th>\n",
       "      <th>age</th>\n",
       "      <th>height</th>\n",
       "      <th>weight</th>\n",
       "      <th>family_history_with_overweight</th>\n",
       "      <th>favc</th>\n",
       "      <th>fcvc</th>\n",
       "      <th>ncp</th>\n",
       "      <th>caec</th>\n",
       "      <th>smoke</th>\n",
       "      <th>ch2o</th>\n",
       "      <th>scc</th>\n",
       "      <th>faf</th>\n",
       "      <th>tue</th>\n",
       "      <th>calc</th>\n",
       "      <th>mtrans</th>\n",
       "    </tr>\n",
       "  </thead>\n",
       "  <tbody>\n",
       "    <tr>\n",
       "      <th>0</th>\n",
       "      <td>Female</td>\n",
       "      <td>21.0</td>\n",
       "      <td>1.62</td>\n",
       "      <td>64.0</td>\n",
       "      <td>yes</td>\n",
       "      <td>no</td>\n",
       "      <td>2.0</td>\n",
       "      <td>3.0</td>\n",
       "      <td>Sometimes</td>\n",
       "      <td>no</td>\n",
       "      <td>2.0</td>\n",
       "      <td>no</td>\n",
       "      <td>0.0</td>\n",
       "      <td>1.0</td>\n",
       "      <td>no</td>\n",
       "      <td>Public_Transportation</td>\n",
       "    </tr>\n",
       "  </tbody>\n",
       "</table>\n",
       "</div>"
      ],
      "text/plain": [
       "   gender   age  height  weight family_history_with_overweight favc  fcvc  \\\n",
       "0  Female  21.0    1.62    64.0                            yes   no   2.0   \n",
       "\n",
       "   ncp       caec smoke  ch2o scc  faf  tue calc                 mtrans  \n",
       "0  3.0  Sometimes    no   2.0  no  0.0  1.0   no  Public_Transportation  "
      ]
     },
     "execution_count": 3,
     "metadata": {},
     "output_type": "execute_result"
    }
   ],
   "source": [
    "newsample = {\n",
    "    'gender':'Female',\n",
    "    'age':21.0,\n",
    "    'height':1.62,\n",
    "    'weight':64.0,\n",
    "    'family_history_with_overweight':'yes',\n",
    "    'favc':'no',\n",
    "    'fcvc':2.0,\n",
    "    'ncp':3.0,\n",
    "    'caec':'Sometimes',\n",
    "    'smoke':'no',\n",
    "    'ch2o':2.0,\n",
    "    'scc':'no',\n",
    "    'faf':0.0,\n",
    "    'tue':1.0,\n",
    "    'calc':'no',\n",
    "    'mtrans':'Public_Transportation'\n",
    "}\n",
    "\n",
    "newData = pd.DataFrame( data=[newsample] )\n",
    "newData"
   ]
  },
  {
   "cell_type": "code",
   "execution_count": 4,
   "id": "82a0d4c9-a159-49e9-bffa-637535642ba0",
   "metadata": {},
   "outputs": [],
   "source": [
    "def convert_lower(value):\n",
    "    value = value.strip()\n",
    "    return value.lower()\n",
    "    "
   ]
  },
  {
   "cell_type": "code",
   "execution_count": 5,
   "id": "f78005a4-bc10-4cb7-8914-38f6114e9d38",
   "metadata": {},
   "outputs": [],
   "source": [
    "cat_cols = [ col for col in newData.columns if newData[col].dtype == 'O' ]\n",
    "num_cols = [ col for col in newData.columns if newData[col].dtype != 'O' ]"
   ]
  },
  {
   "cell_type": "code",
   "execution_count": 6,
   "id": "4deb4212-095e-4326-832f-d179ca49f486",
   "metadata": {},
   "outputs": [],
   "source": [
    "for col in cat_cols:\n",
    "    newData[col] = newData[col].apply(convert_lower)"
   ]
  },
  {
   "cell_type": "code",
   "execution_count": 7,
   "id": "db38db6a-cdd1-460c-b531-b403925f2635",
   "metadata": {},
   "outputs": [
    {
     "data": {
      "text/html": [
       "<div>\n",
       "<style scoped>\n",
       "    .dataframe tbody tr th:only-of-type {\n",
       "        vertical-align: middle;\n",
       "    }\n",
       "\n",
       "    .dataframe tbody tr th {\n",
       "        vertical-align: top;\n",
       "    }\n",
       "\n",
       "    .dataframe thead th {\n",
       "        text-align: right;\n",
       "    }\n",
       "</style>\n",
       "<table border=\"1\" class=\"dataframe\">\n",
       "  <thead>\n",
       "    <tr style=\"text-align: right;\">\n",
       "      <th></th>\n",
       "      <th>gender</th>\n",
       "      <th>age</th>\n",
       "      <th>height</th>\n",
       "      <th>weight</th>\n",
       "      <th>family_history_with_overweight</th>\n",
       "      <th>favc</th>\n",
       "      <th>fcvc</th>\n",
       "      <th>ncp</th>\n",
       "      <th>caec</th>\n",
       "      <th>smoke</th>\n",
       "      <th>ch2o</th>\n",
       "      <th>scc</th>\n",
       "      <th>faf</th>\n",
       "      <th>tue</th>\n",
       "      <th>calc</th>\n",
       "      <th>mtrans</th>\n",
       "    </tr>\n",
       "  </thead>\n",
       "  <tbody>\n",
       "    <tr>\n",
       "      <th>0</th>\n",
       "      <td>female</td>\n",
       "      <td>21.0</td>\n",
       "      <td>1.62</td>\n",
       "      <td>64.0</td>\n",
       "      <td>yes</td>\n",
       "      <td>no</td>\n",
       "      <td>2.0</td>\n",
       "      <td>3.0</td>\n",
       "      <td>sometimes</td>\n",
       "      <td>no</td>\n",
       "      <td>2.0</td>\n",
       "      <td>no</td>\n",
       "      <td>0.0</td>\n",
       "      <td>1.0</td>\n",
       "      <td>no</td>\n",
       "      <td>public_transportation</td>\n",
       "    </tr>\n",
       "  </tbody>\n",
       "</table>\n",
       "</div>"
      ],
      "text/plain": [
       "   gender   age  height  weight family_history_with_overweight favc  fcvc  \\\n",
       "0  female  21.0    1.62    64.0                            yes   no   2.0   \n",
       "\n",
       "   ncp       caec smoke  ch2o scc  faf  tue calc                 mtrans  \n",
       "0  3.0  sometimes    no   2.0  no  0.0  1.0   no  public_transportation  "
      ]
     },
     "execution_count": 7,
     "metadata": {},
     "output_type": "execute_result"
    }
   ],
   "source": [
    "newData"
   ]
  },
  {
   "cell_type": "code",
   "execution_count": 8,
   "id": "6ee4a62f-eb9d-4583-874a-2a5e24900efd",
   "metadata": {},
   "outputs": [],
   "source": [
    "temp = preprocessor.transform( newData )"
   ]
  },
  {
   "cell_type": "code",
   "execution_count": 9,
   "id": "13bf6ab4-4c59-4bb8-a5af-bd89e4847957",
   "metadata": {},
   "outputs": [
    {
     "data": {
      "text/plain": [
       "(1, 23)"
      ]
     },
     "execution_count": 9,
     "metadata": {},
     "output_type": "execute_result"
    }
   ],
   "source": [
    "temp.shape"
   ]
  },
  {
   "cell_type": "code",
   "execution_count": 10,
   "id": "19489d62-ed5d-4937-91cc-44aa28037a2b",
   "metadata": {},
   "outputs": [
    {
     "data": {
      "text/plain": [
       "'no'"
      ]
     },
     "execution_count": 10,
     "metadata": {},
     "output_type": "execute_result"
    }
   ],
   "source": [
    "model.predict( temp )[0]"
   ]
  },
  {
   "cell_type": "code",
   "execution_count": null,
   "id": "24d7b0d2-2149-4153-9412-95580ca72f37",
   "metadata": {},
   "outputs": [],
   "source": []
  },
  {
   "cell_type": "code",
   "execution_count": null,
   "id": "aaeb5b81-e381-4db5-88f1-eb82695d264f",
   "metadata": {},
   "outputs": [],
   "source": []
  },
  {
   "cell_type": "code",
   "execution_count": null,
   "id": "a43626ff-df0d-426f-946d-94e981039364",
   "metadata": {},
   "outputs": [],
   "source": []
  },
  {
   "cell_type": "code",
   "execution_count": null,
   "id": "4c4d8af8-e91d-4dbd-9ed7-e214ef9c3b63",
   "metadata": {},
   "outputs": [],
   "source": []
  }
 ],
 "metadata": {
  "kernelspec": {
   "display_name": "Python 3 (ipykernel)",
   "language": "python",
   "name": "python3"
  },
  "language_info": {
   "codemirror_mode": {
    "name": "ipython",
    "version": 3
   },
   "file_extension": ".py",
   "mimetype": "text/x-python",
   "name": "python",
   "nbconvert_exporter": "python",
   "pygments_lexer": "ipython3",
   "version": "3.12.4"
  }
 },
 "nbformat": 4,
 "nbformat_minor": 5
}
